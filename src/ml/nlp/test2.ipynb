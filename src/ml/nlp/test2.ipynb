{
  "cells": [
    {
      "cell_type": "code",
      "execution_count": 17,
      "metadata": {
        "id": "Sc2nRSZb5KWg"
      },
      "outputs": [],
      "source": [
        "import numpy as np\n",
        "import pandas as pd\n",
        "# import os\n",
        "# import nltk\n",
        "# import random\n",
        "# import torch\n",
        "# from keras.layers.core import Dense, SpatialDropout1D\n",
        "# from keras.layers.convolutional import Conv1D\n",
        "# from keras.layers.embeddings import Embedding\n",
        "# from keras.layers.pooling import GlobalMaxPooling1D\n",
        "# from keras.models import Sequential\n",
        "# from tensorflow.keras.layers import LSTM\n",
        "# from tensorflow.keras.callbacks import EarlyStopping\n",
        "# from keras.preprocessing.sequence import pad_sequences\n",
        "# from keras.utils import np_utils\n",
        "# from sklearn.model_selection import train_test_split\n",
        "from gensim import utils\n",
        "import gensim.parsing.preprocessing as gsp\n"
      ]
    },
    {
      "cell_type": "code",
      "execution_count": 18,
      "metadata": {
        "colab": {
          "base_uri": "https://localhost:8080/",
          "height": 206
        },
        "id": "MXG9P2q1637Z",
        "outputId": "7dfa425c-8e47-4693-ef57-85d48ac36365"
      },
      "outputs": [
        {
          "data": {
            "text/html": [
              "<div>\n",
              "<style scoped>\n",
              "    .dataframe tbody tr th:only-of-type {\n",
              "        vertical-align: middle;\n",
              "    }\n",
              "\n",
              "    .dataframe tbody tr th {\n",
              "        vertical-align: top;\n",
              "    }\n",
              "\n",
              "    .dataframe thead th {\n",
              "        text-align: right;\n",
              "    }\n",
              "</style>\n",
              "<table border=\"1\" class=\"dataframe\">\n",
              "  <thead>\n",
              "    <tr style=\"text-align: right;\">\n",
              "      <th></th>\n",
              "      <th>videoID</th>\n",
              "      <th>startTime</th>\n",
              "      <th>endTime</th>\n",
              "      <th>category</th>\n",
              "      <th>Sentence</th>\n",
              "    </tr>\n",
              "  </thead>\n",
              "  <tbody>\n",
              "    <tr>\n",
              "      <th>0</th>\n",
              "      <td>fBxtS9BpVWs</td>\n",
              "      <td>41.00000</td>\n",
              "      <td>53.000000</td>\n",
              "      <td>sponsor</td>\n",
              "      <td>'Thanks to world of warships for sponsoring Th...</td>\n",
              "    </tr>\n",
              "    <tr>\n",
              "      <th>1</th>\n",
              "      <td>fBxtS9BpVWs</td>\n",
              "      <td>714.00000</td>\n",
              "      <td>763.000000</td>\n",
              "      <td>sponsor</td>\n",
              "      <td>'World of warships is a free-to-play historica...</td>\n",
              "    </tr>\n",
              "    <tr>\n",
              "      <th>2</th>\n",
              "      <td>1rb3bMvDdX4</td>\n",
              "      <td>588.94100</td>\n",
              "      <td>631.897770</td>\n",
              "      <td>sponsor</td>\n",
              "      <td>'location is a new risk - not just that it\\nwi...</td>\n",
              "    </tr>\n",
              "    <tr>\n",
              "      <th>3</th>\n",
              "      <td>1rb3bMvDdX4</td>\n",
              "      <td>0.00000</td>\n",
              "      <td>6.861597</td>\n",
              "      <td>sponsor</td>\n",
              "      <td>'This video is sponsored by Dashlane. Protect ...</td>\n",
              "    </tr>\n",
              "    <tr>\n",
              "      <th>4</th>\n",
              "      <td>AM1-ecnQsm4</td>\n",
              "      <td>164.88225</td>\n",
              "      <td>206.000000</td>\n",
              "      <td>sponsor</td>\n",
              "      <td>'\"What is your favourite spelling of favorite?...</td>\n",
              "    </tr>\n",
              "  </tbody>\n",
              "</table>\n",
              "</div>"
            ],
            "text/plain": [
              "       videoID  startTime     endTime category  \\\n",
              "0  fBxtS9BpVWs   41.00000   53.000000  sponsor   \n",
              "1  fBxtS9BpVWs  714.00000  763.000000  sponsor   \n",
              "2  1rb3bMvDdX4  588.94100  631.897770  sponsor   \n",
              "3  1rb3bMvDdX4    0.00000    6.861597  sponsor   \n",
              "4  AM1-ecnQsm4  164.88225  206.000000  sponsor   \n",
              "\n",
              "                                            Sentence  \n",
              "0  'Thanks to world of warships for sponsoring Th...  \n",
              "1  'World of warships is a free-to-play historica...  \n",
              "2  'location is a new risk - not just that it\\nwi...  \n",
              "3  'This video is sponsored by Dashlane. Protect ...  \n",
              "4  '\"What is your favourite spelling of favorite?...  "
            ]
          },
          "execution_count": 18,
          "metadata": {},
          "output_type": "execute_result"
        }
      ],
      "source": [
        "df = pd.read_csv('data.csv')\n",
        "df = df.drop(columns = ['Unnamed: 0'])\n",
        "df.head()"
      ]
    },
    {
      "cell_type": "code",
      "execution_count": 19,
      "metadata": {
        "colab": {
          "base_uri": "https://localhost:8080/",
          "height": 293
        },
        "id": "r-rUbPOzQ80Z",
        "outputId": "346d5884-4923-408b-c286-28c1b4c75740"
      },
      "outputs": [
        {
          "name": "stderr",
          "output_type": "stream",
          "text": [
            "C:\\Users\\ShabarishRamaswamy\\AppData\\Local\\Temp\\ipykernel_18004\\2155674247.py:11: SettingWithCopyWarning: \n",
            "A value is trying to be set on a copy of a slice from a DataFrame\n",
            "\n",
            "See the caveats in the documentation: https://pandas.pydata.org/pandas-docs/stable/user_guide/indexing.html#returning-a-view-versus-a-copy\n",
            "  df['Sentence'][i] = clean_text(str(df['Sentence'][i]))\n"
          ]
        },
        {
          "data": {
            "text/html": [
              "<div>\n",
              "<style scoped>\n",
              "    .dataframe tbody tr th:only-of-type {\n",
              "        vertical-align: middle;\n",
              "    }\n",
              "\n",
              "    .dataframe tbody tr th {\n",
              "        vertical-align: top;\n",
              "    }\n",
              "\n",
              "    .dataframe thead th {\n",
              "        text-align: right;\n",
              "    }\n",
              "</style>\n",
              "<table border=\"1\" class=\"dataframe\">\n",
              "  <thead>\n",
              "    <tr style=\"text-align: right;\">\n",
              "      <th></th>\n",
              "      <th>videoID</th>\n",
              "      <th>startTime</th>\n",
              "      <th>endTime</th>\n",
              "      <th>category</th>\n",
              "      <th>Sentence</th>\n",
              "    </tr>\n",
              "  </thead>\n",
              "  <tbody>\n",
              "    <tr>\n",
              "      <th>0</th>\n",
              "      <td>fBxtS9BpVWs</td>\n",
              "      <td>41.00000</td>\n",
              "      <td>53.000000</td>\n",
              "      <td>sponsor</td>\n",
              "      <td>thank world warship sponsor video world warshi...</td>\n",
              "    </tr>\n",
              "    <tr>\n",
              "      <th>1</th>\n",
              "      <td>fBxtS9BpVWs</td>\n",
              "      <td>714.00000</td>\n",
              "      <td>763.000000</td>\n",
              "      <td>sponsor</td>\n",
              "      <td>world warship free plai histor onlin combat ga...</td>\n",
              "    </tr>\n",
              "    <tr>\n",
              "      <th>2</th>\n",
              "      <td>1rb3bMvDdX4</td>\n",
              "      <td>588.94100</td>\n",
              "      <td>631.897770</td>\n",
              "      <td>sponsor</td>\n",
              "      <td>locat new risk nwill fail</td>\n",
              "    </tr>\n",
              "    <tr>\n",
              "      <th>3</th>\n",
              "      <td>1rb3bMvDdX4</td>\n",
              "      <td>0.00000</td>\n",
              "      <td>6.861597</td>\n",
              "      <td>sponsor</td>\n",
              "      <td>video sponsor dashlan protect password free da...</td>\n",
              "    </tr>\n",
              "    <tr>\n",
              "      <th>4</th>\n",
              "      <td>AM1-ecnQsm4</td>\n",
              "      <td>164.88225</td>\n",
              "      <td>206.000000</td>\n",
              "      <td>sponsor</td>\n",
              "      <td>favourit spell favorit okai</td>\n",
              "    </tr>\n",
              "  </tbody>\n",
              "</table>\n",
              "</div>"
            ],
            "text/plain": [
              "       videoID  startTime     endTime category  \\\n",
              "0  fBxtS9BpVWs   41.00000   53.000000  sponsor   \n",
              "1  fBxtS9BpVWs  714.00000  763.000000  sponsor   \n",
              "2  1rb3bMvDdX4  588.94100  631.897770  sponsor   \n",
              "3  1rb3bMvDdX4    0.00000    6.861597  sponsor   \n",
              "4  AM1-ecnQsm4  164.88225  206.000000  sponsor   \n",
              "\n",
              "                                            Sentence  \n",
              "0  thank world warship sponsor video world warshi...  \n",
              "1  world warship free plai histor onlin combat ga...  \n",
              "2                          locat new risk nwill fail  \n",
              "3  video sponsor dashlan protect password free da...  \n",
              "4                        favourit spell favorit okai  "
            ]
          },
          "execution_count": 19,
          "metadata": {},
          "output_type": "execute_result"
        }
      ],
      "source": [
        "filters = [gsp.strip_tags, gsp.strip_punctuation, gsp.strip_multiple_whitespaces, gsp.strip_numeric, gsp.remove_stopwords, gsp.strip_short, gsp.stem_text ]\n",
        "\n",
        "def clean_text(s):\n",
        "    s = s.lower()\n",
        "    s = utils.to_unicode(s)\n",
        "    for f in filters:\n",
        "        s = f(s)\n",
        "    return s\n",
        "\n",
        "for i in range(df.shape[0]):\n",
        "  df['Sentence'][i] = clean_text(str(df['Sentence'][i]))\n",
        "\n",
        "df.head()"
      ]
    },
    {
      "cell_type": "code",
      "execution_count": 20,
      "metadata": {
        "id": "FtxetZ0J0UCs"
      },
      "outputs": [],
      "source": [
        "from collections import Counter\n",
        "\n",
        "aggregate_counter = Counter()\n",
        "for row_index,row in df.iterrows():\n",
        "    c = Counter(row['Sentence'].split())\n",
        "    aggregate_counter += c\n",
        "\n",
        "common_words = [word[0] for word in aggregate_counter.most_common(50)]\n",
        "common_words_counts = [word[1] for word in aggregate_counter.most_common(50)]"
      ]
    },
    {
      "cell_type": "code",
      "execution_count": 5,
      "metadata": {
        "id": "98D74OT90ixI"
      },
      "outputs": [],
      "source": [
        "import matplotlib.pyplot as plt\n",
        "import seaborn as sns\n",
        "\n",
        "plt.style.use('dark_background')\n",
        "\n",
        "def barplot(words, words_counts, title):\n",
        "    fig = plt.figure(figsize=(25,10))\n",
        "    bar_plot = sns.barplot(x=words, y=words_counts, palette='Paired')\n",
        "    bar_plot.set_xlabel(\"Words\",fontsize=20)\n",
        "    bar_plot.set_ylabel(\"Frequency\",fontsize=15)\n",
        "    bar_plot.tick_params(labelsize=15)\n",
        "    for item in bar_plot.get_xticklabels():\n",
        "        item.set_rotation(90)\n",
        "    plt.title(title)\n",
        "    plt.show()"
      ]
    },
    {
      "cell_type": "code",
      "execution_count": 6,
      "metadata": {
        "colab": {
          "base_uri": "https://localhost:8080/",
          "height": 707
        },
        "id": "qDkOiVts0wF-",
        "outputId": "712cb0ed-12f7-4455-801a-1e9bd7ccd6dc"
      },
      "outputs": [
        {
          "data": {
            "image/png": "[encoded data removed]",
            "text/plain": [
              "<Figure size 1800x720 with 1 Axes>"
            ]
          },
          "metadata": {},
          "output_type": "display_data"
        }
      ],
      "source": [
        "barplot(words=common_words, words_counts=common_words_counts, title='Most Frequent Words used in Sponsorships')"
      ]
    },
    {
      "cell_type": "code",
      "execution_count": 7,
      "metadata": {
        "id": "IBN4t1Kn01q0"
      },
      "outputs": [],
      "source": [
        "from gensim.models.doc2vec import TaggedDocument, Doc2Vec\n",
        "from gensim.parsing.preprocessing import preprocess_string\n",
        "from sklearn.base import BaseEstimator\n",
        "from sklearn import utils as skl_utils\n",
        "from tqdm import tqdm\n",
        "\n",
        "import multiprocessing\n",
        "import numpy as np\n",
        "\n",
        "class Doc2VecTransformer(BaseEstimator):\n",
        "\n",
        "    def __init__(self, vector_size=100, learning_rate=0.02, epochs=20):\n",
        "        self.learning_rate = learning_rate\n",
        "        self.epochs = epochs\n",
        "        self._model = None\n",
        "        self.vector_size = vector_size\n",
        "        self.workers = multiprocessing.cpu_count() - 1\n",
        "\n",
        "    def fit(self, df_x, df_y=None):\n",
        "        tagged_x = [TaggedDocument(str(row['sents']).split(), [index]) for index, row in df_x.iterrows()]\n",
        "        model = Doc2Vec(documents=tagged_x, vector_size=self.vector_size, workers=self.workers)\n",
        "\n",
        "        for epoch in range(self.epochs):\n",
        "            model.train(skl_utils.shuffle([x for x in tqdm(tagged_x)]), total_examples=len(tagged_x), epochs=1)\n",
        "            model.alpha -= self.learning_rate\n",
        "            model.min_alpha = model.alpha\n",
        "\n",
        "        self._model = model\n",
        "        return self\n",
        "\n",
        "    def transform(self, df_x):\n",
        "        return np.asmatrix(np.array([self._model.infer_vector(str(row['sents']).split())\n",
        "                                     for index, row in df_x.iterrows()]))"
      ]
    },
    {
      "cell_type": "code",
      "execution_count": 8,
      "metadata": {
        "colab": {
          "base_uri": "https://localhost:8080/",
          "height": 206
        },
        "id": "ErzHqtFXtfMa",
        "outputId": "886d7d4b-93c4-447a-b948-438639adddb5"
      },
      "outputs": [
        {
          "data": {
            "text/html": [
              "<div>\n",
              "<style scoped>\n",
              "    .dataframe tbody tr th:only-of-type {\n",
              "        vertical-align: middle;\n",
              "    }\n",
              "\n",
              "    .dataframe tbody tr th {\n",
              "        vertical-align: top;\n",
              "    }\n",
              "\n",
              "    .dataframe thead th {\n",
              "        text-align: right;\n",
              "    }\n",
              "</style>\n",
              "<table border=\"1\" class=\"dataframe\">\n",
              "  <thead>\n",
              "    <tr style=\"text-align: right;\">\n",
              "      <th></th>\n",
              "      <th>sents</th>\n",
              "    </tr>\n",
              "  </thead>\n",
              "  <tbody>\n",
              "    <tr>\n",
              "      <th>0</th>\n",
              "      <td>thank world warship sponsor video world warshi...</td>\n",
              "    </tr>\n",
              "    <tr>\n",
              "      <th>1</th>\n",
              "      <td>world warship free plai histor onlin combat ga...</td>\n",
              "    </tr>\n",
              "    <tr>\n",
              "      <th>2</th>\n",
              "      <td>locat new risk nwill fail</td>\n",
              "    </tr>\n",
              "    <tr>\n",
              "      <th>3</th>\n",
              "      <td>video sponsor dashlan protect password free da...</td>\n",
              "    </tr>\n",
              "    <tr>\n",
              "      <th>4</th>\n",
              "      <td>favourit spell favorit okai</td>\n",
              "    </tr>\n",
              "  </tbody>\n",
              "</table>\n",
              "</div>"
            ],
            "text/plain": [
              "                                               sents\n",
              "0  thank world warship sponsor video world warshi...\n",
              "1  world warship free plai histor onlin combat ga...\n",
              "2                          locat new risk nwill fail\n",
              "3  video sponsor dashlan protect password free da...\n",
              "4                        favourit spell favorit okai"
            ]
          },
          "execution_count": 8,
          "metadata": {},
          "output_type": "execute_result"
        }
      ],
      "source": [
        "dat = pd.DataFrame()\n",
        "dat['sents'] = list(df.Sentence)\n",
        "dat.head()"
      ]
    },
    {
      "cell_type": "code",
      "execution_count": 22,
      "metadata": {
        "colab": {
          "base_uri": "https://localhost:8080/"
        },
        "id": "BBHdA_wptVYs",
        "outputId": "36f37c2e-19c1-447e-968b-09e8b9c1387f"
      },
      "outputs": [
        {
          "name": "stderr",
          "output_type": "stream",
          "text": [
            "100%|██████████| 1617/1617 [00:00<?, ?it/s]\n",
            "100%|██████████| 1617/1617 [00:00<?, ?it/s]\n",
            "100%|██████████| 1617/1617 [00:00<?, ?it/s]\n",
            "100%|██████████| 1617/1617 [00:00<?, ?it/s]\n",
            "100%|██████████| 1617/1617 [00:00<?, ?it/s]\n",
            "100%|██████████| 1617/1617 [00:00<00:00, 1119542.68it/s]\n",
            "100%|██████████| 1617/1617 [00:00<00:00, 644143.75it/s]\n",
            "100%|██████████| 1617/1617 [00:00<00:00, 1148550.31it/s]\n",
            "100%|██████████| 1617/1617 [00:00<00:00, 404062.53it/s]\n",
            "100%|██████████| 1617/1617 [00:00<00:00, 401431.76it/s]\n",
            "100%|██████████| 1617/1617 [00:00<?, ?it/s]\n",
            "100%|██████████| 1617/1617 [00:00<?, ?it/s]\n",
            "100%|██████████| 1617/1617 [00:00<?, ?it/s]\n",
            "100%|██████████| 1617/1617 [00:00<00:00, 416391.80it/s]\n",
            "100%|██████████| 1617/1617 [00:00<?, ?it/s]\n",
            "100%|██████████| 1617/1617 [00:00<?, ?it/s]\n",
            "100%|██████████| 1617/1617 [00:00<00:00, 1431143.61it/s]\n",
            "100%|██████████| 1617/1617 [00:00<?, ?it/s]\n",
            "100%|██████████| 1617/1617 [00:00<00:00, 965848.70it/s]\n",
            "100%|██████████| 1617/1617 [00:00<00:00, 1022492.02it/s]\n"
          ]
        }
      ],
      "source": [
        "doc2vec_tr = Doc2VecTransformer(vector_size=200)\n",
        "doc2vec_tr.fit(dat)\n",
        "doc2vec_vectors = doc2vec_tr.transform(dat)"
      ]
    },
    {
      "cell_type": "code",
      "execution_count": 23,
      "metadata": {
        "colab": {
          "base_uri": "https://localhost:8080/"
        },
        "id": "LoBjyBINtx7j",
        "outputId": "7a62f97c-cee2-4748-d0ee-37732a9f9379"
      },
      "outputs": [
        {
          "name": "stderr",
          "output_type": "stream",
          "text": [
            "f:\\Programming\\FullStack\\SponsEnd\\venv\\lib\\site-packages\\sklearn\\utils\\validation.py:593: FutureWarning: np.matrix usage is deprecated in 1.0 and will raise a TypeError in 1.2. Please convert to a numpy array with np.asarray. For more information see: https://numpy.org/doc/stable/reference/generated/numpy.matrix.html\n",
            "  warnings.warn(\n",
            "f:\\Programming\\FullStack\\SponsEnd\\venv\\lib\\site-packages\\sklearn\\utils\\validation.py:593: FutureWarning: np.matrix usage is deprecated in 1.0 and will raise a TypeError in 1.2. Please convert to a numpy array with np.asarray. For more information see: https://numpy.org/doc/stable/reference/generated/numpy.matrix.html\n",
            "  warnings.warn(\n",
            "f:\\Programming\\FullStack\\SponsEnd\\venv\\lib\\site-packages\\sklearn\\utils\\validation.py:593: FutureWarning: np.matrix usage is deprecated in 1.0 and will raise a TypeError in 1.2. Please convert to a numpy array with np.asarray. For more information see: https://numpy.org/doc/stable/reference/generated/numpy.matrix.html\n",
            "  warnings.warn(\n"
          ]
        }
      ],
      "source": [
        "from sklearn.neural_network import MLPRegressor\n",
        "\n",
        "auto_encoder = MLPRegressor(hidden_layer_sizes=(\n",
        "                                                 600,\n",
        "                                                 150, \n",
        "                                                 600,\n",
        "                                               ))\n",
        "auto_encoder.fit(doc2vec_vectors, doc2vec_vectors)\n",
        "predicted_vectors = auto_encoder.predict(doc2vec_vectors)"
      ]
    },
    {
      "cell_type": "code",
      "execution_count": 24,
      "metadata": {
        "colab": {
          "base_uri": "https://localhost:8080/",
          "height": 90
        },
        "id": "jsPXBtDSuAE5",
        "outputId": "68fcd643-3573-488d-b30e-72b3e6e485e4"
      },
      "outputs": [
        {
          "name": "stderr",
          "output_type": "stream",
          "text": [
            "f:\\Programming\\FullStack\\SponsEnd\\venv\\lib\\site-packages\\sklearn\\utils\\validation.py:593: FutureWarning: np.matrix usage is deprecated in 1.0 and will raise a TypeError in 1.2. Please convert to a numpy array with np.asarray. For more information see: https://numpy.org/doc/stable/reference/generated/numpy.matrix.html\n",
            "  warnings.warn(\n"
          ]
        },
        {
          "data": {
            "text/plain": [
              "'87.144%'"
            ]
          },
          "execution_count": 24,
          "metadata": {},
          "output_type": "execute_result"
        }
      ],
      "source": [
        "str(round(auto_encoder.score(predicted_vectors, doc2vec_vectors)*100,3))+'%'"
      ]
    },
    {
      "cell_type": "code",
      "execution_count": 25,
      "metadata": {
        "colab": {
          "base_uri": "https://localhost:8080/",
          "height": 282
        },
        "id": "i7PwJQvPuXRk",
        "outputId": "559b673f-e8b3-4a66-efda-2e2583075923"
      },
      "outputs": [
        {
          "data": {
            "text/plain": [
              "<AxesSubplot:>"
            ]
          },
          "execution_count": 25,
          "metadata": {},
          "output_type": "execute_result"
        },
        {
          "data": {
            "image/png": "[encoded data removed]",
            "text/plain": [
              "<Figure size 432x288 with 1 Axes>"
            ]
          },
          "metadata": {},
          "output_type": "display_data"
        }
      ],
      "source": [
        "pd.DataFrame(auto_encoder.loss_curve_).plot()"
      ]
    },
    {
      "cell_type": "code",
      "execution_count": 26,
      "metadata": {
        "colab": {
          "base_uri": "https://localhost:8080/",
          "height": 269
        },
        "id": "Q-HFwZBzav3b",
        "outputId": "be7882fc-1092-42e6-ff95-5f047020f914"
      },
      "outputs": [
        {
          "data": {
            "text/html": [
              "<div>\n",
              "<style scoped>\n",
              "    .dataframe tbody tr th:only-of-type {\n",
              "        vertical-align: middle;\n",
              "    }\n",
              "\n",
              "    .dataframe tbody tr th {\n",
              "        vertical-align: top;\n",
              "    }\n",
              "\n",
              "    .dataframe thead th {\n",
              "        text-align: right;\n",
              "    }\n",
              "</style>\n",
              "<table border=\"1\" class=\"dataframe\">\n",
              "  <thead>\n",
              "    <tr style=\"text-align: right;\">\n",
              "      <th></th>\n",
              "      <th>sents</th>\n",
              "    </tr>\n",
              "  </thead>\n",
              "  <tbody>\n",
              "    <tr>\n",
              "      <th>0</th>\n",
              "      <td>todai video sponsor skillshar video</td>\n",
              "    </tr>\n",
              "    <tr>\n",
              "      <th>1</th>\n",
              "      <td>friend told problem gave advic storytim</td>\n",
              "    </tr>\n",
              "    <tr>\n",
              "      <th>2</th>\n",
              "      <td>video sponsor best fiend mobil multiplay game ...</td>\n",
              "    </tr>\n",
              "    <tr>\n",
              "      <th>3</th>\n",
              "      <td>mukbang youtub</td>\n",
              "    </tr>\n",
              "    <tr>\n",
              "      <th>4</th>\n",
              "      <td>thank raycon sponsor todai video</td>\n",
              "    </tr>\n",
              "    <tr>\n",
              "      <th>5</th>\n",
              "      <td>discuss exam paper india joint entranc exam</td>\n",
              "    </tr>\n",
              "    <tr>\n",
              "      <th>6</th>\n",
              "      <td>us coupon code eatmiss flat purchas</td>\n",
              "    </tr>\n",
              "  </tbody>\n",
              "</table>\n",
              "</div>"
            ],
            "text/plain": [
              "                                               sents\n",
              "0                todai video sponsor skillshar video\n",
              "1            friend told problem gave advic storytim\n",
              "2  video sponsor best fiend mobil multiplay game ...\n",
              "3                                     mukbang youtub\n",
              "4                   thank raycon sponsor todai video\n",
              "5        discuss exam paper india joint entranc exam\n",
              "6                us coupon code eatmiss flat purchas"
            ]
          },
          "execution_count": 26,
          "metadata": {},
          "output_type": "execute_result"
        }
      ],
      "source": [
        "data = ['todays video is sponsored by skillshare. Back to the video.','So my friend told me about her problems and I gave her some advice storytime','this video is sponsored by best fiends. it is a mobile multiplayer game that keeps you engaged.','i am a mukbang youtuber',\"thank you raycon for sponsoring today's video\",'we will be discussing this exam paper from Indias joint entrance exam','Use my coupon code EATMISS to get flat 30% off your first three purchases']\n",
        "data = [clean_text(i) for i in data]\n",
        "#data = [data[1]]\n",
        "dd = pd.DataFrame()\n",
        "dd['sents'] = data\n",
        "data = dd\n",
        "data"
      ]
    },
    {
      "cell_type": "code",
      "execution_count": 27,
      "metadata": {
        "colab": {
          "base_uri": "https://localhost:8080/"
        },
        "id": "8fpSGeCqlrB0",
        "outputId": "a8dca157-74ac-49af-f7e6-d67441fa171d"
      },
      "outputs": [
        {
          "name": "stderr",
          "output_type": "stream",
          "text": [
            "f:\\Programming\\FullStack\\SponsEnd\\venv\\lib\\site-packages\\sklearn\\utils\\validation.py:593: FutureWarning: np.matrix usage is deprecated in 1.0 and will raise a TypeError in 1.2. Please convert to a numpy array with np.asarray. For more information see: https://numpy.org/doc/stable/reference/generated/numpy.matrix.html\n",
            "  warnings.warn(\n"
          ]
        }
      ],
      "source": [
        "dv = doc2vec_tr.transform(data)\n",
        "pv = auto_encoder.predict(dv)"
      ]
    },
    {
      "cell_type": "code",
      "execution_count": 28,
      "metadata": {
        "id": "ooq8e5NxvvRH"
      },
      "outputs": [],
      "source": [
        "from scipy.spatial.distance import cosine\n",
        "\n",
        "def key_consine_similarity(tupple):\n",
        "    return tupple[1]\n",
        "\n",
        "def get_computed_similarities(vectors, predicted_vectors, reverse=False):\n",
        "    data_size = len(data)\n",
        "    cosine_similarities = []\n",
        "    for i in range(data_size):\n",
        "        cosine_sim_val = (cosine(vectors[i], predicted_vectors[i]))\n",
        "        cosine_similarities.append((i, cosine_sim_val))\n",
        "\n",
        "    return sorted(cosine_similarities, key=key_consine_similarity, reverse=reverse)\n",
        "\n",
        "def display_top_n(sorted_cosine_similarities, n=len(data)):\n",
        "    for i in range(n):\n",
        "        index, cosine_sim_val = sorted_cosine_similarities[i]\n",
        "        cosine_sim_val = round(cosine_sim_val,4)\n",
        "        print('Text Title: ', data.iloc[index][0])\n",
        "        tag = ''\n",
        "        if cosine_sim_val > 0.70:\n",
        "          tag='Sponsored'\n",
        "        else:\n",
        "          tag='Content'\n",
        "        print('Tag :', cosine_sim_val, tag)\n",
        "        print('---------------------------------')"
      ]
    },
    {
      "cell_type": "code",
      "execution_count": 29,
      "metadata": {
        "colab": {
          "base_uri": "https://localhost:8080/"
        },
        "id": "7GNX8YQ--7HC",
        "outputId": "e7f4f54c-912c-4f20-e2f4-c7b6f9b3e89a"
      },
      "outputs": [
        {
          "name": "stdout",
          "output_type": "stream",
          "text": [
            "Text Title:  discuss exam paper india joint entranc exam\n",
            "Tag : 0.0008 Content\n",
            "---------------------------------\n",
            "Text Title:  mukbang youtub\n",
            "Tag : 0.0562 Content\n",
            "---------------------------------\n",
            "Text Title:  todai video sponsor skillshar video\n",
            "Tag : 0.8575 Sponsored\n",
            "---------------------------------\n",
            "Text Title:  video sponsor best fiend mobil multiplay game keep engag\n",
            "Tag : 0.9864 Sponsored\n",
            "---------------------------------\n",
            "Text Title:  friend told problem gave advic storytim\n",
            "Tag : 0.9957 Sponsored\n",
            "---------------------------------\n",
            "Text Title:  us coupon code eatmiss flat purchas\n",
            "Tag : 0.9992 Sponsored\n",
            "---------------------------------\n",
            "Text Title:  thank raycon sponsor todai video\n",
            "Tag : 1.0926 Sponsored\n",
            "---------------------------------\n"
          ]
        }
      ],
      "source": [
        "sorted_cosine_similarities = get_computed_similarities(vectors=dv, predicted_vectors=pv)\n",
        "display_top_n(sorted_cosine_similarities=sorted_cosine_similarities)"
      ]
    },
    {
      "cell_type": "code",
      "execution_count": null,
      "metadata": {},
      "outputs": [],
      "source": []
    }
  ],
  "metadata": {
    "colab": {
      "name": "test2.ipynb",
      "provenance": []
    },
    "kernelspec": {
      "display_name": "Python 3",
      "name": "python3"
    },
    "language_info": {
      "codemirror_mode": {
        "name": "ipython",
        "version": 3
      },
      "file_extension": ".py",
      "mimetype": "text/x-python",
      "name": "python",
      "nbconvert_exporter": "python",
      "pygments_lexer": "ipython3",
      "version": "3.8.5"
    }
  },
  "nbformat": 4,
  "nbformat_minor": 0
}
