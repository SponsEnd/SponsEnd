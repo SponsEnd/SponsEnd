{
  "cells": [
    {
      "cell_type": "code",
      "execution_count": null,
      "metadata": {
        "colab": {
          "base_uri": "https://localhost:8080/"
        },
        "id": "6LfsurIg40bz",
        "outputId": "864c7a03-53f0-45e8-e06f-8de4f181ddd5"
      },
      "outputs": [
        {
          "name": "stdout",
          "output_type": "stream",
          "text": [
            "Collecting transformers\n",
            "  Downloading transformers-4.17.0-py3-none-any.whl (3.8 MB)\n",
            "\u001b[K     |████████████████████████████████| 3.8 MB 5.1 MB/s \n",
            "\u001b[?25hRequirement already satisfied: filelock in /usr/local/lib/python3.7/dist-packages (from transformers) (3.6.0)\n",
            "Requirement already satisfied: packaging>=20.0 in /usr/local/lib/python3.7/dist-packages (from transformers) (21.3)\n",
            "Collecting tokenizers!=0.11.3,>=0.11.1\n",
            "  Downloading tokenizers-0.11.6-cp37-cp37m-manylinux_2_12_x86_64.manylinux2010_x86_64.whl (6.5 MB)\n",
            "\u001b[K     |████████████████████████████████| 6.5 MB 44.0 MB/s \n",
            "\u001b[?25hCollecting sacremoses\n",
            "  Downloading sacremoses-0.0.49-py3-none-any.whl (895 kB)\n",
            "\u001b[K     |████████████████████████████████| 895 kB 1.9 MB/s \n",
            "\u001b[?25hRequirement already satisfied: tqdm>=4.27 in /usr/local/lib/python3.7/dist-packages (from transformers) (4.63.0)\n",
            "Requirement already satisfied: importlib-metadata in /usr/local/lib/python3.7/dist-packages (from transformers) (4.11.3)\n",
            "Collecting huggingface-hub<1.0,>=0.1.0\n",
            "  Downloading huggingface_hub-0.5.0-py3-none-any.whl (77 kB)\n",
            "\u001b[K     |████████████████████████████████| 77 kB 5.5 MB/s \n",
            "\u001b[?25hRequirement already satisfied: regex!=2019.12.17 in /usr/local/lib/python3.7/dist-packages (from transformers) (2019.12.20)\n",
            "Requirement already satisfied: requests in /usr/local/lib/python3.7/dist-packages (from transformers) (2.23.0)\n",
            "Collecting pyyaml>=5.1\n",
            "  Downloading PyYAML-6.0-cp37-cp37m-manylinux_2_5_x86_64.manylinux1_x86_64.manylinux_2_12_x86_64.manylinux2010_x86_64.whl (596 kB)\n",
            "\u001b[K     |████████████████████████████████| 596 kB 53.4 MB/s \n",
            "\u001b[?25hRequirement already satisfied: numpy>=1.17 in /usr/local/lib/python3.7/dist-packages (from transformers) (1.21.5)\n",
            "Requirement already satisfied: typing-extensions>=3.7.4.3 in /usr/local/lib/python3.7/dist-packages (from huggingface-hub<1.0,>=0.1.0->transformers) (3.10.0.2)\n",
            "Requirement already satisfied: pyparsing!=3.0.5,>=2.0.2 in /usr/local/lib/python3.7/dist-packages (from packaging>=20.0->transformers) (3.0.7)\n",
            "Requirement already satisfied: zipp>=0.5 in /usr/local/lib/python3.7/dist-packages (from importlib-metadata->transformers) (3.7.0)\n",
            "Requirement already satisfied: certifi>=2017.4.17 in /usr/local/lib/python3.7/dist-packages (from requests->transformers) (2021.10.8)\n",
            "Requirement already satisfied: urllib3!=1.25.0,!=1.25.1,<1.26,>=1.21.1 in /usr/local/lib/python3.7/dist-packages (from requests->transformers) (1.24.3)\n",
            "Requirement already satisfied: idna<3,>=2.5 in /usr/local/lib/python3.7/dist-packages (from requests->transformers) (2.10)\n",
            "Requirement already satisfied: chardet<4,>=3.0.2 in /usr/local/lib/python3.7/dist-packages (from requests->transformers) (3.0.4)\n",
            "Requirement already satisfied: click in /usr/local/lib/python3.7/dist-packages (from sacremoses->transformers) (7.1.2)\n",
            "Requirement already satisfied: joblib in /usr/local/lib/python3.7/dist-packages (from sacremoses->transformers) (1.1.0)\n",
            "Requirement already satisfied: six in /usr/local/lib/python3.7/dist-packages (from sacremoses->transformers) (1.15.0)\n",
            "Installing collected packages: pyyaml, tokenizers, sacremoses, huggingface-hub, transformers\n",
            "  Attempting uninstall: pyyaml\n",
            "    Found existing installation: PyYAML 3.13\n",
            "    Uninstalling PyYAML-3.13:\n",
            "      Successfully uninstalled PyYAML-3.13\n",
            "Successfully installed huggingface-hub-0.5.0 pyyaml-6.0 sacremoses-0.0.49 tokenizers-0.11.6 transformers-4.17.0\n",
            "--2022-04-05 21:09:34--  https://sponsor.ajay.app/database/sponsorTimes.csv\n",
            "Resolving sponsor.ajay.app (sponsor.ajay.app)... 104.21.29.90, 172.67.148.181, 2606:4700:3032::6815:1d5a, ...\n",
            "Connecting to sponsor.ajay.app (sponsor.ajay.app)|104.21.29.90|:443... connected.\n",
            "HTTP request sent, awaiting response... 302 Found\n",
            "Location: /download/sponsorTimes_1649192701505.csv [following]\n",
            "--2022-04-05 21:09:35--  https://sponsor.ajay.app/download/sponsorTimes_1649192701505.csv\n",
            "Reusing existing connection to sponsor.ajay.app:443.\n",
            "HTTP request sent, awaiting response... 200 OK\n",
            "Length: 1121426917 (1.0G) [text/csv]\n",
            "Saving to: ‘sponsorTimes.csv’\n",
            "\n",
            "sponsorTimes.csv    100%[===================>]   1.04G  27.7MB/s    in 54s     \n",
            "\n",
            "2022-04-05 21:10:29 (19.8 MB/s) - ‘sponsorTimes.csv’ saved [1121426917/1121426917]\n",
            "\n"
          ]
        }
      ],
      "source": [
        "! pip install transformers\n",
        "# ! wget https://sponsor.ajay.app/database/sponsorTimes.csv"
      ]
    },
    {
      "cell_type": "code",
      "execution_count": 2,
      "metadata": {
        "id": "Sc2nRSZb5KWg"
      },
      "outputs": [],
      "source": [
        "import numpy as np\n",
        "import pandas as pd\n",
        "import os\n",
        "import nltk\n",
        "import random\n",
        "# import torch\n",
        "from keras.layers.core import Dense, SpatialDropout1D\n",
        "from keras.layers.convolutional import Conv1D\n",
        "from keras.layers.embeddings import Embedding\n",
        "from keras.layers.pooling import GlobalMaxPooling1D\n",
        "from keras.models import Sequential\n",
        "# from tensorflow.keras.layers import LSTM\n",
        "# from tensorflow.keras.callbacks import EarlyStopping\n",
        "from keras.preprocessing.sequence import pad_sequences\n",
        "from keras.utils import np_utils\n",
        "from sklearn.model_selection import train_test_split\n",
        "from gensim import utils\n",
        "import gensim.parsing.preprocessing as gsp\n"
      ]
    },
    {
      "cell_type": "code",
      "execution_count": 2,
      "metadata": {
        "colab": {
          "base_uri": "https://localhost:8080/",
          "height": 565
        },
        "id": "uObfgdt55MWB",
        "outputId": "90aeb1b9-9542-445f-a47f-7ea240d35247"
      },
      "outputs": [
        {
          "ename": "NameError",
          "evalue": "name 'pd' is not defined",
          "output_type": "error",
          "traceback": [
            "\u001b[1;31m---------------------------------------------------------------------------\u001b[0m",
            "\u001b[1;31mNameError\u001b[0m                                 Traceback (most recent call last)",
            "\u001b[1;32mf:\\Programming\\FullStack\\SponsEnd\\src\\ml\\nlp\\test.ipynb Cell 3'\u001b[0m in \u001b[0;36m<cell line: 1>\u001b[1;34m()\u001b[0m\n\u001b[1;32m----> <a href='vscode-notebook-cell:/f%3A/Programming/FullStack/SponsEnd/src/ml/nlp/test.ipynb#ch0000002?line=0'>1</a>\u001b[0m df2 \u001b[39m=\u001b[39m pd\u001b[39m.\u001b[39mread_csv(\u001b[39m'\u001b[39m\u001b[39m./sponsorTimes.csv\u001b[39m\u001b[39m'\u001b[39m)\n\u001b[0;32m      <a href='vscode-notebook-cell:/f%3A/Programming/FullStack/SponsEnd/src/ml/nlp/test.ipynb#ch0000002?line=1'>2</a>\u001b[0m df \u001b[39m=\u001b[39m df2\n\u001b[0;32m      <a href='vscode-notebook-cell:/f%3A/Programming/FullStack/SponsEnd/src/ml/nlp/test.ipynb#ch0000002?line=2'>3</a>\u001b[0m df2 \u001b[39m=\u001b[39m df2[:\u001b[39m80000\u001b[39m]\n",
            "\u001b[1;31mNameError\u001b[0m: name 'pd' is not defined"
          ]
        }
      ],
      "source": [
        "df2 = pd.read_csv('./sponsorTimes.csv')\n",
        "df = df2\n",
        "df2 = df2[:80000]\n",
        "df.head()"
      ]
    },
    {
      "cell_type": "code",
      "execution_count": null,
      "metadata": {
        "colab": {
          "base_uri": "https://localhost:8080/",
          "height": 206
        },
        "id": "ec1jqW2X5PDb",
        "outputId": "9cdf14d1-5786-4caf-f616-961608d4d579"
      },
      "outputs": [
        {
          "data": {
            "text/html": [
              "\n",
              "  <div id=\"df-decd7822-0b14-47c2-87ed-81bb865c42b8\">\n",
              "    <div class=\"colab-df-container\">\n",
              "      <div>\n",
              "<style scoped>\n",
              "    .dataframe tbody tr th:only-of-type {\n",
              "        vertical-align: middle;\n",
              "    }\n",
              "\n",
              "    .dataframe tbody tr th {\n",
              "        vertical-align: top;\n",
              "    }\n",
              "\n",
              "    .dataframe thead th {\n",
              "        text-align: right;\n",
              "    }\n",
              "</style>\n",
              "<table border=\"1\" class=\"dataframe\">\n",
              "  <thead>\n",
              "    <tr style=\"text-align: right;\">\n",
              "      <th></th>\n",
              "      <th>videoID</th>\n",
              "      <th>startTime</th>\n",
              "      <th>endTime</th>\n",
              "      <th>category</th>\n",
              "    </tr>\n",
              "  </thead>\n",
              "  <tbody>\n",
              "    <tr>\n",
              "      <th>0</th>\n",
              "      <td>fBxtS9BpVWs</td>\n",
              "      <td>41.00000</td>\n",
              "      <td>53.000000</td>\n",
              "      <td>sponsor</td>\n",
              "    </tr>\n",
              "    <tr>\n",
              "      <th>1</th>\n",
              "      <td>fBxtS9BpVWs</td>\n",
              "      <td>714.00000</td>\n",
              "      <td>763.000000</td>\n",
              "      <td>sponsor</td>\n",
              "    </tr>\n",
              "    <tr>\n",
              "      <th>2</th>\n",
              "      <td>1rb3bMvDdX4</td>\n",
              "      <td>588.94100</td>\n",
              "      <td>631.897770</td>\n",
              "      <td>sponsor</td>\n",
              "    </tr>\n",
              "    <tr>\n",
              "      <th>3</th>\n",
              "      <td>1rb3bMvDdX4</td>\n",
              "      <td>0.00000</td>\n",
              "      <td>6.861597</td>\n",
              "      <td>sponsor</td>\n",
              "    </tr>\n",
              "    <tr>\n",
              "      <th>4</th>\n",
              "      <td>AM1-ecnQsm4</td>\n",
              "      <td>164.88225</td>\n",
              "      <td>206.000000</td>\n",
              "      <td>sponsor</td>\n",
              "    </tr>\n",
              "  </tbody>\n",
              "</table>\n",
              "</div>\n",
              "      <button class=\"colab-df-convert\" onclick=\"convertToInteractive('df-decd7822-0b14-47c2-87ed-81bb865c42b8')\"\n",
              "              title=\"Convert this dataframe to an interactive table.\"\n",
              "              style=\"display:none;\">\n",
              "        \n",
              "  <svg xmlns=\"http://www.w3.org/2000/svg\" height=\"24px\"viewBox=\"0 0 24 24\"\n",
              "       width=\"24px\">\n",
              "    <path d=\"M0 0h24v24H0V0z\" fill=\"none\"/>\n",
              "    <path d=\"M18.56 5.44l.94 2.06.94-2.06 2.06-.94-2.06-.94-.94-2.06-.94 2.06-2.06.94zm-11 1L8.5 8.5l.94-2.06 2.06-.94-2.06-.94L8.5 2.5l-.94 2.06-2.06.94zm10 10l.94 2.06.94-2.06 2.06-.94-2.06-.94-.94-2.06-.94 2.06-2.06.94z\"/><path d=\"M17.41 7.96l-1.37-1.37c-.4-.4-.92-.59-1.43-.59-.52 0-1.04.2-1.43.59L10.3 9.45l-7.72 7.72c-.78.78-.78 2.05 0 2.83L4 21.41c.39.39.9.59 1.41.59.51 0 1.02-.2 1.41-.59l7.78-7.78 2.81-2.81c.8-.78.8-2.07 0-2.86zM5.41 20L4 18.59l7.72-7.72 1.47 1.35L5.41 20z\"/>\n",
              "  </svg>\n",
              "      </button>\n",
              "      \n",
              "  <style>\n",
              "    .colab-df-container {\n",
              "      display:flex;\n",
              "      flex-wrap:wrap;\n",
              "      gap: 12px;\n",
              "    }\n",
              "\n",
              "    .colab-df-convert {\n",
              "      background-color: #E8F0FE;\n",
              "      border: none;\n",
              "      border-radius: 50%;\n",
              "      cursor: pointer;\n",
              "      display: none;\n",
              "      fill: #1967D2;\n",
              "      height: 32px;\n",
              "      padding: 0 0 0 0;\n",
              "      width: 32px;\n",
              "    }\n",
              "\n",
              "    .colab-df-convert:hover {\n",
              "      background-color: #E2EBFA;\n",
              "      box-shadow: 0px 1px 2px rgba(60, 64, 67, 0.3), 0px 1px 3px 1px rgba(60, 64, 67, 0.15);\n",
              "      fill: #174EA6;\n",
              "    }\n",
              "\n",
              "    [theme=dark] .colab-df-convert {\n",
              "      background-color: #3B4455;\n",
              "      fill: #D2E3FC;\n",
              "    }\n",
              "\n",
              "    [theme=dark] .colab-df-convert:hover {\n",
              "      background-color: #434B5C;\n",
              "      box-shadow: 0px 1px 3px 1px rgba(0, 0, 0, 0.15);\n",
              "      filter: drop-shadow(0px 1px 2px rgba(0, 0, 0, 0.3));\n",
              "      fill: #FFFFFF;\n",
              "    }\n",
              "  </style>\n",
              "\n",
              "      <script>\n",
              "        const buttonEl =\n",
              "          document.querySelector('#df-decd7822-0b14-47c2-87ed-81bb865c42b8 button.colab-df-convert');\n",
              "        buttonEl.style.display =\n",
              "          google.colab.kernel.accessAllowed ? 'block' : 'none';\n",
              "\n",
              "        async function convertToInteractive(key) {\n",
              "          const element = document.querySelector('#df-decd7822-0b14-47c2-87ed-81bb865c42b8');\n",
              "          const dataTable =\n",
              "            await google.colab.kernel.invokeFunction('convertToInteractive',\n",
              "                                                     [key], {});\n",
              "          if (!dataTable) return;\n",
              "\n",
              "          const docLinkHtml = 'Like what you see? Visit the ' +\n",
              "            '<a target=\"_blank\" href=https://colab.research.google.com/notebooks/data_table.ipynb>data table notebook</a>'\n",
              "            + ' to learn more about interactive tables.';\n",
              "          element.innerHTML = '';\n",
              "          dataTable['output_type'] = 'display_data';\n",
              "          await google.colab.output.renderOutput(dataTable, element);\n",
              "          const docLink = document.createElement('div');\n",
              "          docLink.innerHTML = docLinkHtml;\n",
              "          element.appendChild(docLink);\n",
              "        }\n",
              "      </script>\n",
              "    </div>\n",
              "  </div>\n",
              "  "
            ],
            "text/plain": [
              "       videoID  startTime     endTime category\n",
              "0  fBxtS9BpVWs   41.00000   53.000000  sponsor\n",
              "1  fBxtS9BpVWs  714.00000  763.000000  sponsor\n",
              "2  1rb3bMvDdX4  588.94100  631.897770  sponsor\n",
              "3  1rb3bMvDdX4    0.00000    6.861597  sponsor\n",
              "4  AM1-ecnQsm4  164.88225  206.000000  sponsor"
            ]
          },
          "execution_count": 4,
          "metadata": {},
          "output_type": "execute_result"
        }
      ],
      "source": [
        "# df = df.drop(columns = list(df.columns)[3:10])\n",
        "# df = df.drop(columns = list(df.columns)[4:])\n",
        "# df.head()"
      ]
    },
    {
      "cell_type": "code",
      "execution_count": null,
      "metadata": {
        "colab": {
          "base_uri": "https://localhost:8080/"
        },
        "id": "HMWWMSKg5Qwz",
        "outputId": "865fc3fe-c028-4040-da55-f4b6e1a02cd9"
      },
      "outputs": [
        {
          "data": {
            "text/plain": [
              "(3000, 4)"
            ]
          },
          "execution_count": 5,
          "metadata": {},
          "output_type": "execute_result"
        }
      ],
      "source": [
        "# df = df[0:3000]\n",
        "# df.shape"
      ]
    },
    {
      "cell_type": "code",
      "execution_count": 1,
      "metadata": {
        "id": "_yBWrgzg5SqK"
      },
      "outputs": [],
      "source": [
        "inx = []\n",
        "txt = []\n",
        "f = open(\"./data.txt\", \"r\", encoding=\"utf8\")\n",
        "for x in f:\n",
        "  u = tuple(map(str, x.split(', ')))\n",
        "  inx.append(int(u[0]))\n",
        "  txt.append(u[1])\n"
      ]
    },
    {
      "cell_type": "code",
      "execution_count": null,
      "metadata": {
        "colab": {
          "base_uri": "https://localhost:8080/"
        },
        "id": "JTEQhX3f5fFf",
        "outputId": "237e00ef-6cd4-49a2-dd76-9dac5a586cfd"
      },
      "outputs": [
        {
          "name": "stderr",
          "output_type": "stream",
          "text": [
            "/usr/local/lib/python3.7/dist-packages/ipykernel_launcher.py:3: SettingWithCopyWarning: \n",
            "A value is trying to be set on a copy of a slice from a DataFrame\n",
            "\n",
            "See the caveats in the documentation: https://pandas.pydata.org/pandas-docs/stable/user_guide/indexing.html#returning-a-view-versus-a-copy\n",
            "  This is separate from the ipykernel package so we can avoid doing imports until\n"
          ]
        },
        {
          "data": {
            "text/plain": [
              "sponsor    2982\n",
              "content      18\n",
              "Name: category, dtype: int64"
            ]
          },
          "execution_count": 7,
          "metadata": {},
          "output_type": "execute_result"
        }
      ],
      "source": [
        "for i in range(df.shape[0]):\n",
        "  if df['category'][i] != 'sponsor':\n",
        "    df['category'][i] = 'content'\n",
        "df['category'].value_counts()"
      ]
    },
    {
      "cell_type": "code",
      "execution_count": null,
      "metadata": {
        "colab": {
          "base_uri": "https://localhost:8080/",
          "height": 206
        },
        "id": "voz8Bog85WAM",
        "outputId": "8ead4104-b132-4b08-d29e-0ed6509d57b8"
      },
      "outputs": [
        {
          "data": {
            "text/html": [
              "\n",
              "  <div id=\"df-3038e0d4-f65b-4410-89d3-0aa57bf8a9e9\">\n",
              "    <div class=\"colab-df-container\">\n",
              "      <div>\n",
              "<style scoped>\n",
              "    .dataframe tbody tr th:only-of-type {\n",
              "        vertical-align: middle;\n",
              "    }\n",
              "\n",
              "    .dataframe tbody tr th {\n",
              "        vertical-align: top;\n",
              "    }\n",
              "\n",
              "    .dataframe thead th {\n",
              "        text-align: right;\n",
              "    }\n",
              "</style>\n",
              "<table border=\"1\" class=\"dataframe\">\n",
              "  <thead>\n",
              "    <tr style=\"text-align: right;\">\n",
              "      <th></th>\n",
              "      <th>videoID</th>\n",
              "      <th>startTime</th>\n",
              "      <th>endTime</th>\n",
              "      <th>category</th>\n",
              "      <th>Sentence</th>\n",
              "    </tr>\n",
              "  </thead>\n",
              "  <tbody>\n",
              "    <tr>\n",
              "      <th>0</th>\n",
              "      <td>fBxtS9BpVWs</td>\n",
              "      <td>41.00000</td>\n",
              "      <td>53.000000</td>\n",
              "      <td>sponsor</td>\n",
              "      <td>'Thanks to world of warships for sponsoring Th...</td>\n",
              "    </tr>\n",
              "    <tr>\n",
              "      <th>1</th>\n",
              "      <td>fBxtS9BpVWs</td>\n",
              "      <td>714.00000</td>\n",
              "      <td>763.000000</td>\n",
              "      <td>sponsor</td>\n",
              "      <td>'World of warships is a free-to-play historica...</td>\n",
              "    </tr>\n",
              "    <tr>\n",
              "      <th>2</th>\n",
              "      <td>1rb3bMvDdX4</td>\n",
              "      <td>588.94100</td>\n",
              "      <td>631.897770</td>\n",
              "      <td>sponsor</td>\n",
              "      <td>'location is a new risk - not just that it\\nwi...</td>\n",
              "    </tr>\n",
              "    <tr>\n",
              "      <th>3</th>\n",
              "      <td>1rb3bMvDdX4</td>\n",
              "      <td>0.00000</td>\n",
              "      <td>6.861597</td>\n",
              "      <td>sponsor</td>\n",
              "      <td>'This video is sponsored by Dashlane. Protect ...</td>\n",
              "    </tr>\n",
              "    <tr>\n",
              "      <th>4</th>\n",
              "      <td>AM1-ecnQsm4</td>\n",
              "      <td>164.88225</td>\n",
              "      <td>206.000000</td>\n",
              "      <td>sponsor</td>\n",
              "      <td>'\"What is your favourite spelling of favorite?...</td>\n",
              "    </tr>\n",
              "  </tbody>\n",
              "</table>\n",
              "</div>\n",
              "      <button class=\"colab-df-convert\" onclick=\"convertToInteractive('df-3038e0d4-f65b-4410-89d3-0aa57bf8a9e9')\"\n",
              "              title=\"Convert this dataframe to an interactive table.\"\n",
              "              style=\"display:none;\">\n",
              "        \n",
              "  <svg xmlns=\"http://www.w3.org/2000/svg\" height=\"24px\"viewBox=\"0 0 24 24\"\n",
              "       width=\"24px\">\n",
              "    <path d=\"M0 0h24v24H0V0z\" fill=\"none\"/>\n",
              "    <path d=\"M18.56 5.44l.94 2.06.94-2.06 2.06-.94-2.06-.94-.94-2.06-.94 2.06-2.06.94zm-11 1L8.5 8.5l.94-2.06 2.06-.94-2.06-.94L8.5 2.5l-.94 2.06-2.06.94zm10 10l.94 2.06.94-2.06 2.06-.94-2.06-.94-.94-2.06-.94 2.06-2.06.94z\"/><path d=\"M17.41 7.96l-1.37-1.37c-.4-.4-.92-.59-1.43-.59-.52 0-1.04.2-1.43.59L10.3 9.45l-7.72 7.72c-.78.78-.78 2.05 0 2.83L4 21.41c.39.39.9.59 1.41.59.51 0 1.02-.2 1.41-.59l7.78-7.78 2.81-2.81c.8-.78.8-2.07 0-2.86zM5.41 20L4 18.59l7.72-7.72 1.47 1.35L5.41 20z\"/>\n",
              "  </svg>\n",
              "      </button>\n",
              "      \n",
              "  <style>\n",
              "    .colab-df-container {\n",
              "      display:flex;\n",
              "      flex-wrap:wrap;\n",
              "      gap: 12px;\n",
              "    }\n",
              "\n",
              "    .colab-df-convert {\n",
              "      background-color: #E8F0FE;\n",
              "      border: none;\n",
              "      border-radius: 50%;\n",
              "      cursor: pointer;\n",
              "      display: none;\n",
              "      fill: #1967D2;\n",
              "      height: 32px;\n",
              "      padding: 0 0 0 0;\n",
              "      width: 32px;\n",
              "    }\n",
              "\n",
              "    .colab-df-convert:hover {\n",
              "      background-color: #E2EBFA;\n",
              "      box-shadow: 0px 1px 2px rgba(60, 64, 67, 0.3), 0px 1px 3px 1px rgba(60, 64, 67, 0.15);\n",
              "      fill: #174EA6;\n",
              "    }\n",
              "\n",
              "    [theme=dark] .colab-df-convert {\n",
              "      background-color: #3B4455;\n",
              "      fill: #D2E3FC;\n",
              "    }\n",
              "\n",
              "    [theme=dark] .colab-df-convert:hover {\n",
              "      background-color: #434B5C;\n",
              "      box-shadow: 0px 1px 3px 1px rgba(0, 0, 0, 0.15);\n",
              "      filter: drop-shadow(0px 1px 2px rgba(0, 0, 0, 0.3));\n",
              "      fill: #FFFFFF;\n",
              "    }\n",
              "  </style>\n",
              "\n",
              "      <script>\n",
              "        const buttonEl =\n",
              "          document.querySelector('#df-3038e0d4-f65b-4410-89d3-0aa57bf8a9e9 button.colab-df-convert');\n",
              "        buttonEl.style.display =\n",
              "          google.colab.kernel.accessAllowed ? 'block' : 'none';\n",
              "\n",
              "        async function convertToInteractive(key) {\n",
              "          const element = document.querySelector('#df-3038e0d4-f65b-4410-89d3-0aa57bf8a9e9');\n",
              "          const dataTable =\n",
              "            await google.colab.kernel.invokeFunction('convertToInteractive',\n",
              "                                                     [key], {});\n",
              "          if (!dataTable) return;\n",
              "\n",
              "          const docLinkHtml = 'Like what you see? Visit the ' +\n",
              "            '<a target=\"_blank\" href=https://colab.research.google.com/notebooks/data_table.ipynb>data table notebook</a>'\n",
              "            + ' to learn more about interactive tables.';\n",
              "          element.innerHTML = '';\n",
              "          dataTable['output_type'] = 'display_data';\n",
              "          await google.colab.output.renderOutput(dataTable, element);\n",
              "          const docLink = document.createElement('div');\n",
              "          docLink.innerHTML = docLinkHtml;\n",
              "          element.appendChild(docLink);\n",
              "        }\n",
              "      </script>\n",
              "    </div>\n",
              "  </div>\n",
              "  "
            ],
            "text/plain": [
              "       videoID  startTime     endTime category  \\\n",
              "0  fBxtS9BpVWs   41.00000   53.000000  sponsor   \n",
              "1  fBxtS9BpVWs  714.00000  763.000000  sponsor   \n",
              "2  1rb3bMvDdX4  588.94100  631.897770  sponsor   \n",
              "3  1rb3bMvDdX4    0.00000    6.861597  sponsor   \n",
              "4  AM1-ecnQsm4  164.88225  206.000000  sponsor   \n",
              "\n",
              "                                            Sentence  \n",
              "0  'Thanks to world of warships for sponsoring Th...  \n",
              "1  'World of warships is a free-to-play historica...  \n",
              "2  'location is a new risk - not just that it\\nwi...  \n",
              "3  'This video is sponsored by Dashlane. Protect ...  \n",
              "4  '\"What is your favourite spelling of favorite?...  "
            ]
          },
          "execution_count": 8,
          "metadata": {},
          "output_type": "execute_result"
        }
      ],
      "source": [
        "diff = list(set(range(3000)).difference(set(inx)))\n",
        "df = df.drop(labels=diff,axis=0)\n",
        "df['Sentence'] = txt\n",
        "df.head()"
      ]
    },
    {
      "cell_type": "code",
      "execution_count": null,
      "metadata": {
        "colab": {
          "base_uri": "https://localhost:8080/"
        },
        "id": "9_lXvnALqkBy",
        "outputId": "e4739c2a-1d84-4936-e594-ec9d9e6e34e7"
      },
      "outputs": [
        {
          "data": {
            "text/plain": [
              "sponsor    1617\n",
              "Name: category, dtype: int64"
            ]
          },
          "execution_count": 9,
          "metadata": {},
          "output_type": "execute_result"
        }
      ],
      "source": [
        "df = df[df.category != 'content']\n",
        "df.category.value_counts()"
      ]
    },
    {
      "cell_type": "code",
      "execution_count": null,
      "metadata": {
        "id": "o7KAPO1U5bs5"
      },
      "outputs": [],
      "source": [
        "df = df.reset_index(drop=True)"
      ]
    },
    {
      "cell_type": "markdown",
      "metadata": {
        "id": "3bINfCyutUMP"
      },
      "source": [
        "###########################################################\n",
        "* OCSVM\n",
        "* iForest\n",
        "* One Class Anomaly detection\n",
        "\n",
        "###########################################################\n"
      ]
    },
    {
      "cell_type": "markdown",
      "metadata": {
        "id": "e4ZTRZ0Yv8HJ"
      },
      "source": [
        "https://medium.datadriveninvestor.com/unsupervised-outlier-detection-in-text-corpus-using-deep-learning-41d4284a04c8"
      ]
    },
    {
      "cell_type": "code",
      "execution_count": null,
      "metadata": {
        "colab": {
          "base_uri": "https://localhost:8080/",
          "height": 293
        },
        "id": "r-rUbPOzQ80Z",
        "outputId": "83bc8e96-600f-4dd3-bd09-eca353d679c8"
      },
      "outputs": [
        {
          "name": "stderr",
          "output_type": "stream",
          "text": [
            "/usr/local/lib/python3.7/dist-packages/ipykernel_launcher.py:11: SettingWithCopyWarning: \n",
            "A value is trying to be set on a copy of a slice from a DataFrame\n",
            "\n",
            "See the caveats in the documentation: https://pandas.pydata.org/pandas-docs/stable/user_guide/indexing.html#returning-a-view-versus-a-copy\n",
            "  # This is added back by InteractiveShellApp.init_path()\n"
          ]
        },
        {
          "data": {
            "text/html": [
              "\n",
              "  <div id=\"df-e976823f-08b3-426b-adeb-342720fcaab7\">\n",
              "    <div class=\"colab-df-container\">\n",
              "      <div>\n",
              "<style scoped>\n",
              "    .dataframe tbody tr th:only-of-type {\n",
              "        vertical-align: middle;\n",
              "    }\n",
              "\n",
              "    .dataframe tbody tr th {\n",
              "        vertical-align: top;\n",
              "    }\n",
              "\n",
              "    .dataframe thead th {\n",
              "        text-align: right;\n",
              "    }\n",
              "</style>\n",
              "<table border=\"1\" class=\"dataframe\">\n",
              "  <thead>\n",
              "    <tr style=\"text-align: right;\">\n",
              "      <th></th>\n",
              "      <th>videoID</th>\n",
              "      <th>startTime</th>\n",
              "      <th>endTime</th>\n",
              "      <th>category</th>\n",
              "      <th>Sentence</th>\n",
              "    </tr>\n",
              "  </thead>\n",
              "  <tbody>\n",
              "    <tr>\n",
              "      <th>0</th>\n",
              "      <td>fBxtS9BpVWs</td>\n",
              "      <td>41.00000</td>\n",
              "      <td>53.000000</td>\n",
              "      <td>sponsor</td>\n",
              "      <td>thank world warship sponsor video world warshi...</td>\n",
              "    </tr>\n",
              "    <tr>\n",
              "      <th>1</th>\n",
              "      <td>fBxtS9BpVWs</td>\n",
              "      <td>714.00000</td>\n",
              "      <td>763.000000</td>\n",
              "      <td>sponsor</td>\n",
              "      <td>world warship free plai histor onlin combat ga...</td>\n",
              "    </tr>\n",
              "    <tr>\n",
              "      <th>2</th>\n",
              "      <td>1rb3bMvDdX4</td>\n",
              "      <td>588.94100</td>\n",
              "      <td>631.897770</td>\n",
              "      <td>sponsor</td>\n",
              "      <td>locat new risk nwill fail</td>\n",
              "    </tr>\n",
              "    <tr>\n",
              "      <th>3</th>\n",
              "      <td>1rb3bMvDdX4</td>\n",
              "      <td>0.00000</td>\n",
              "      <td>6.861597</td>\n",
              "      <td>sponsor</td>\n",
              "      <td>video sponsor dashlan protect password free da...</td>\n",
              "    </tr>\n",
              "    <tr>\n",
              "      <th>4</th>\n",
              "      <td>AM1-ecnQsm4</td>\n",
              "      <td>164.88225</td>\n",
              "      <td>206.000000</td>\n",
              "      <td>sponsor</td>\n",
              "      <td>favourit spell favorit okai</td>\n",
              "    </tr>\n",
              "  </tbody>\n",
              "</table>\n",
              "</div>\n",
              "      <button class=\"colab-df-convert\" onclick=\"convertToInteractive('df-e976823f-08b3-426b-adeb-342720fcaab7')\"\n",
              "              title=\"Convert this dataframe to an interactive table.\"\n",
              "              style=\"display:none;\">\n",
              "        \n",
              "  <svg xmlns=\"http://www.w3.org/2000/svg\" height=\"24px\"viewBox=\"0 0 24 24\"\n",
              "       width=\"24px\">\n",
              "    <path d=\"M0 0h24v24H0V0z\" fill=\"none\"/>\n",
              "    <path d=\"M18.56 5.44l.94 2.06.94-2.06 2.06-.94-2.06-.94-.94-2.06-.94 2.06-2.06.94zm-11 1L8.5 8.5l.94-2.06 2.06-.94-2.06-.94L8.5 2.5l-.94 2.06-2.06.94zm10 10l.94 2.06.94-2.06 2.06-.94-2.06-.94-.94-2.06-.94 2.06-2.06.94z\"/><path d=\"M17.41 7.96l-1.37-1.37c-.4-.4-.92-.59-1.43-.59-.52 0-1.04.2-1.43.59L10.3 9.45l-7.72 7.72c-.78.78-.78 2.05 0 2.83L4 21.41c.39.39.9.59 1.41.59.51 0 1.02-.2 1.41-.59l7.78-7.78 2.81-2.81c.8-.78.8-2.07 0-2.86zM5.41 20L4 18.59l7.72-7.72 1.47 1.35L5.41 20z\"/>\n",
              "  </svg>\n",
              "      </button>\n",
              "      \n",
              "  <style>\n",
              "    .colab-df-container {\n",
              "      display:flex;\n",
              "      flex-wrap:wrap;\n",
              "      gap: 12px;\n",
              "    }\n",
              "\n",
              "    .colab-df-convert {\n",
              "      background-color: #E8F0FE;\n",
              "      border: none;\n",
              "      border-radius: 50%;\n",
              "      cursor: pointer;\n",
              "      display: none;\n",
              "      fill: #1967D2;\n",
              "      height: 32px;\n",
              "      padding: 0 0 0 0;\n",
              "      width: 32px;\n",
              "    }\n",
              "\n",
              "    .colab-df-convert:hover {\n",
              "      background-color: #E2EBFA;\n",
              "      box-shadow: 0px 1px 2px rgba(60, 64, 67, 0.3), 0px 1px 3px 1px rgba(60, 64, 67, 0.15);\n",
              "      fill: #174EA6;\n",
              "    }\n",
              "\n",
              "    [theme=dark] .colab-df-convert {\n",
              "      background-color: #3B4455;\n",
              "      fill: #D2E3FC;\n",
              "    }\n",
              "\n",
              "    [theme=dark] .colab-df-convert:hover {\n",
              "      background-color: #434B5C;\n",
              "      box-shadow: 0px 1px 3px 1px rgba(0, 0, 0, 0.15);\n",
              "      filter: drop-shadow(0px 1px 2px rgba(0, 0, 0, 0.3));\n",
              "      fill: #FFFFFF;\n",
              "    }\n",
              "  </style>\n",
              "\n",
              "      <script>\n",
              "        const buttonEl =\n",
              "          document.querySelector('#df-e976823f-08b3-426b-adeb-342720fcaab7 button.colab-df-convert');\n",
              "        buttonEl.style.display =\n",
              "          google.colab.kernel.accessAllowed ? 'block' : 'none';\n",
              "\n",
              "        async function convertToInteractive(key) {\n",
              "          const element = document.querySelector('#df-e976823f-08b3-426b-adeb-342720fcaab7');\n",
              "          const dataTable =\n",
              "            await google.colab.kernel.invokeFunction('convertToInteractive',\n",
              "                                                     [key], {});\n",
              "          if (!dataTable) return;\n",
              "\n",
              "          const docLinkHtml = 'Like what you see? Visit the ' +\n",
              "            '<a target=\"_blank\" href=https://colab.research.google.com/notebooks/data_table.ipynb>data table notebook</a>'\n",
              "            + ' to learn more about interactive tables.';\n",
              "          element.innerHTML = '';\n",
              "          dataTable['output_type'] = 'display_data';\n",
              "          await google.colab.output.renderOutput(dataTable, element);\n",
              "          const docLink = document.createElement('div');\n",
              "          docLink.innerHTML = docLinkHtml;\n",
              "          element.appendChild(docLink);\n",
              "        }\n",
              "      </script>\n",
              "    </div>\n",
              "  </div>\n",
              "  "
            ],
            "text/plain": [
              "       videoID  startTime     endTime category  \\\n",
              "0  fBxtS9BpVWs   41.00000   53.000000  sponsor   \n",
              "1  fBxtS9BpVWs  714.00000  763.000000  sponsor   \n",
              "2  1rb3bMvDdX4  588.94100  631.897770  sponsor   \n",
              "3  1rb3bMvDdX4    0.00000    6.861597  sponsor   \n",
              "4  AM1-ecnQsm4  164.88225  206.000000  sponsor   \n",
              "\n",
              "                                            Sentence  \n",
              "0  thank world warship sponsor video world warshi...  \n",
              "1  world warship free plai histor onlin combat ga...  \n",
              "2                          locat new risk nwill fail  \n",
              "3  video sponsor dashlan protect password free da...  \n",
              "4                        favourit spell favorit okai  "
            ]
          },
          "execution_count": 11,
          "metadata": {},
          "output_type": "execute_result"
        }
      ],
      "source": [
        "filters = [gsp.strip_tags, gsp.strip_punctuation, gsp.strip_multiple_whitespaces, gsp.strip_numeric, gsp.remove_stopwords, gsp.strip_short, gsp.stem_text ]\n",
        "\n",
        "def clean_text(s):\n",
        "    s = s.lower()\n",
        "    s = utils.to_unicode(s)\n",
        "    for f in filters:\n",
        "        s = f(s)\n",
        "    return s\n",
        "\n",
        "for i in range(df.shape[0]):\n",
        "  df['Sentence'][i] = clean_text(str(df['Sentence'][i]))\n",
        "\n",
        "df.head()"
      ]
    },
    {
      "cell_type": "code",
      "execution_count": null,
      "metadata": {
        "id": "FtxetZ0J0UCs"
      },
      "outputs": [],
      "source": [
        "from collections import Counter\n",
        "\n",
        "aggregate_counter = Counter()\n",
        "for row_index,row in df.iterrows():\n",
        "    c = Counter(row['Sentence'].split())\n",
        "    aggregate_counter += c\n",
        "\n",
        "common_words = [word[0] for word in aggregate_counter.most_common(50)]\n",
        "common_words_counts = [word[1] for word in aggregate_counter.most_common(50)]"
      ]
    },
    {
      "cell_type": "code",
      "execution_count": null,
      "metadata": {
        "id": "98D74OT90ixI"
      },
      "outputs": [],
      "source": [
        "import matplotlib.pyplot as plt\n",
        "import seaborn as sns\n",
        "\n",
        "plt.style.use('dark_background')\n",
        "\n",
        "def barplot(words, words_counts, title):\n",
        "    fig = plt.figure(figsize=(25,10))\n",
        "    bar_plot = sns.barplot(x=words, y=words_counts, palette='Paired')\n",
        "    bar_plot.set_xlabel(\"Words\",fontsize=20)\n",
        "    bar_plot.set_ylabel(\"Frequency\",fontsize=15)\n",
        "    bar_plot.tick_params(labelsize=15)\n",
        "    for item in bar_plot.get_xticklabels():\n",
        "        item.set_rotation(90)\n",
        "    plt.title(title)\n",
        "    plt.show()"
      ]
    },
    {
      "cell_type": "code",
      "execution_count": null,
      "metadata": {
        "colab": {
          "base_uri": "https://localhost:8080/",
          "height": 707
        },
        "id": "qDkOiVts0wF-",
        "outputId": "64b235a0-b81a-4752-d87d-aab8fd1dee6d"
      },
      "outputs": [
        {
          "data": {
            "image/png": "[encoded data removed]",
            "text/plain": [
              "<Figure size 1800x720 with 1 Axes>"
            ]
          },
          "metadata": {},
          "output_type": "display_data"
        }
      ],
      "source": [
        "barplot(words=common_words, words_counts=common_words_counts, title='Most Frequent Words used in Sponsorships')"
      ]
    },
    {
      "cell_type": "code",
      "execution_count": null,
      "metadata": {
        "id": "IBN4t1Kn01q0"
      },
      "outputs": [],
      "source": [
        "from gensim.models.doc2vec import TaggedDocument, Doc2Vec\n",
        "from gensim.parsing.preprocessing import preprocess_string\n",
        "from sklearn.base import BaseEstimator\n",
        "from sklearn import utils as skl_utils\n",
        "from tqdm import tqdm\n",
        "\n",
        "import multiprocessing\n",
        "import numpy as np\n",
        "\n",
        "class Doc2VecTransformer(BaseEstimator):\n",
        "\n",
        "    def __init__(self, vector_size=100, learning_rate=0.02, epochs=20):\n",
        "        self.learning_rate = learning_rate\n",
        "        self.epochs = epochs\n",
        "        self._model = None\n",
        "        self.vector_size = vector_size\n",
        "        self.workers = multiprocessing.cpu_count() - 1\n",
        "\n",
        "    def fit(self, df_x, df_y=None):\n",
        "        tagged_x = [TaggedDocument(str(row['sents']).split(), [index]) for index, row in df_x.iterrows()]\n",
        "        model = Doc2Vec(documents=tagged_x, vector_size=self.vector_size, workers=self.workers)\n",
        "\n",
        "        for epoch in range(self.epochs):\n",
        "            model.train(skl_utils.shuffle([x for x in tqdm(tagged_x)]), total_examples=len(tagged_x), epochs=1)\n",
        "            model.alpha -= self.learning_rate\n",
        "            model.min_alpha = model.alpha\n",
        "\n",
        "        self._model = model\n",
        "        return self\n",
        "\n",
        "    def transform(self, df_x):\n",
        "        return np.asmatrix(np.array([self._model.infer_vector(str(row['sents']).split())\n",
        "                                     for index, row in df_x.iterrows()]))"
      ]
    },
    {
      "cell_type": "code",
      "execution_count": null,
      "metadata": {
        "colab": {
          "base_uri": "https://localhost:8080/",
          "height": 206
        },
        "id": "ErzHqtFXtfMa",
        "outputId": "7dab74f7-2ea7-42b9-dc07-21207d678a90"
      },
      "outputs": [
        {
          "data": {
            "text/html": [
              "\n",
              "  <div id=\"df-7e43f03e-0e4d-4670-a853-f3710c5eae9a\">\n",
              "    <div class=\"colab-df-container\">\n",
              "      <div>\n",
              "<style scoped>\n",
              "    .dataframe tbody tr th:only-of-type {\n",
              "        vertical-align: middle;\n",
              "    }\n",
              "\n",
              "    .dataframe tbody tr th {\n",
              "        vertical-align: top;\n",
              "    }\n",
              "\n",
              "    .dataframe thead th {\n",
              "        text-align: right;\n",
              "    }\n",
              "</style>\n",
              "<table border=\"1\" class=\"dataframe\">\n",
              "  <thead>\n",
              "    <tr style=\"text-align: right;\">\n",
              "      <th></th>\n",
              "      <th>sents</th>\n",
              "    </tr>\n",
              "  </thead>\n",
              "  <tbody>\n",
              "    <tr>\n",
              "      <th>0</th>\n",
              "      <td>thank world warship sponsor video world warshi...</td>\n",
              "    </tr>\n",
              "    <tr>\n",
              "      <th>1</th>\n",
              "      <td>world warship free plai histor onlin combat ga...</td>\n",
              "    </tr>\n",
              "    <tr>\n",
              "      <th>2</th>\n",
              "      <td>locat new risk nwill fail</td>\n",
              "    </tr>\n",
              "    <tr>\n",
              "      <th>3</th>\n",
              "      <td>video sponsor dashlan protect password free da...</td>\n",
              "    </tr>\n",
              "    <tr>\n",
              "      <th>4</th>\n",
              "      <td>favourit spell favorit okai</td>\n",
              "    </tr>\n",
              "  </tbody>\n",
              "</table>\n",
              "</div>\n",
              "      <button class=\"colab-df-convert\" onclick=\"convertToInteractive('df-7e43f03e-0e4d-4670-a853-f3710c5eae9a')\"\n",
              "              title=\"Convert this dataframe to an interactive table.\"\n",
              "              style=\"display:none;\">\n",
              "        \n",
              "  <svg xmlns=\"http://www.w3.org/2000/svg\" height=\"24px\"viewBox=\"0 0 24 24\"\n",
              "       width=\"24px\">\n",
              "    <path d=\"M0 0h24v24H0V0z\" fill=\"none\"/>\n",
              "    <path d=\"M18.56 5.44l.94 2.06.94-2.06 2.06-.94-2.06-.94-.94-2.06-.94 2.06-2.06.94zm-11 1L8.5 8.5l.94-2.06 2.06-.94-2.06-.94L8.5 2.5l-.94 2.06-2.06.94zm10 10l.94 2.06.94-2.06 2.06-.94-2.06-.94-.94-2.06-.94 2.06-2.06.94z\"/><path d=\"M17.41 7.96l-1.37-1.37c-.4-.4-.92-.59-1.43-.59-.52 0-1.04.2-1.43.59L10.3 9.45l-7.72 7.72c-.78.78-.78 2.05 0 2.83L4 21.41c.39.39.9.59 1.41.59.51 0 1.02-.2 1.41-.59l7.78-7.78 2.81-2.81c.8-.78.8-2.07 0-2.86zM5.41 20L4 18.59l7.72-7.72 1.47 1.35L5.41 20z\"/>\n",
              "  </svg>\n",
              "      </button>\n",
              "      \n",
              "  <style>\n",
              "    .colab-df-container {\n",
              "      display:flex;\n",
              "      flex-wrap:wrap;\n",
              "      gap: 12px;\n",
              "    }\n",
              "\n",
              "    .colab-df-convert {\n",
              "      background-color: #E8F0FE;\n",
              "      border: none;\n",
              "      border-radius: 50%;\n",
              "      cursor: pointer;\n",
              "      display: none;\n",
              "      fill: #1967D2;\n",
              "      height: 32px;\n",
              "      padding: 0 0 0 0;\n",
              "      width: 32px;\n",
              "    }\n",
              "\n",
              "    .colab-df-convert:hover {\n",
              "      background-color: #E2EBFA;\n",
              "      box-shadow: 0px 1px 2px rgba(60, 64, 67, 0.3), 0px 1px 3px 1px rgba(60, 64, 67, 0.15);\n",
              "      fill: #174EA6;\n",
              "    }\n",
              "\n",
              "    [theme=dark] .colab-df-convert {\n",
              "      background-color: #3B4455;\n",
              "      fill: #D2E3FC;\n",
              "    }\n",
              "\n",
              "    [theme=dark] .colab-df-convert:hover {\n",
              "      background-color: #434B5C;\n",
              "      box-shadow: 0px 1px 3px 1px rgba(0, 0, 0, 0.15);\n",
              "      filter: drop-shadow(0px 1px 2px rgba(0, 0, 0, 0.3));\n",
              "      fill: #FFFFFF;\n",
              "    }\n",
              "  </style>\n",
              "\n",
              "      <script>\n",
              "        const buttonEl =\n",
              "          document.querySelector('#df-7e43f03e-0e4d-4670-a853-f3710c5eae9a button.colab-df-convert');\n",
              "        buttonEl.style.display =\n",
              "          google.colab.kernel.accessAllowed ? 'block' : 'none';\n",
              "\n",
              "        async function convertToInteractive(key) {\n",
              "          const element = document.querySelector('#df-7e43f03e-0e4d-4670-a853-f3710c5eae9a');\n",
              "          const dataTable =\n",
              "            await google.colab.kernel.invokeFunction('convertToInteractive',\n",
              "                                                     [key], {});\n",
              "          if (!dataTable) return;\n",
              "\n",
              "          const docLinkHtml = 'Like what you see? Visit the ' +\n",
              "            '<a target=\"_blank\" href=https://colab.research.google.com/notebooks/data_table.ipynb>data table notebook</a>'\n",
              "            + ' to learn more about interactive tables.';\n",
              "          element.innerHTML = '';\n",
              "          dataTable['output_type'] = 'display_data';\n",
              "          await google.colab.output.renderOutput(dataTable, element);\n",
              "          const docLink = document.createElement('div');\n",
              "          docLink.innerHTML = docLinkHtml;\n",
              "          element.appendChild(docLink);\n",
              "        }\n",
              "      </script>\n",
              "    </div>\n",
              "  </div>\n",
              "  "
            ],
            "text/plain": [
              "                                               sents\n",
              "0  thank world warship sponsor video world warshi...\n",
              "1  world warship free plai histor onlin combat ga...\n",
              "2                          locat new risk nwill fail\n",
              "3  video sponsor dashlan protect password free da...\n",
              "4                        favourit spell favorit okai"
            ]
          },
          "execution_count": 16,
          "metadata": {},
          "output_type": "execute_result"
        }
      ],
      "source": [
        "dat = pd.DataFrame()\n",
        "dat['sents'] = list(df.Sentence)\n",
        "dat.head()"
      ]
    },
    {
      "cell_type": "code",
      "execution_count": null,
      "metadata": {
        "colab": {
          "base_uri": "https://localhost:8080/"
        },
        "id": "BBHdA_wptVYs",
        "outputId": "02aee440-b97f-4436-9ae9-9759b99da643"
      },
      "outputs": [
        {
          "name": "stderr",
          "output_type": "stream",
          "text": [
            "100%|██████████| 1617/1617 [00:00<00:00, 1314123.15it/s]\n",
            "100%|██████████| 1617/1617 [00:00<00:00, 466643.01it/s]\n",
            "100%|██████████| 1617/1617 [00:00<00:00, 896759.17it/s]\n",
            "100%|██████████| 1617/1617 [00:00<00:00, 2196304.91it/s]\n",
            "100%|██████████| 1617/1617 [00:00<00:00, 2252470.80it/s]\n",
            "100%|██████████| 1617/1617 [00:00<00:00, 1339559.46it/s]\n",
            "100%|██████████| 1617/1617 [00:00<00:00, 1115675.20it/s]\n",
            "100%|██████████| 1617/1617 [00:00<00:00, 1956777.14it/s]\n",
            "100%|██████████| 1617/1617 [00:00<00:00, 2228051.76it/s]\n",
            "100%|██████████| 1617/1617 [00:00<00:00, 1064039.78it/s]\n",
            "100%|██████████| 1617/1617 [00:00<00:00, 1022029.77it/s]\n",
            "100%|██████████| 1617/1617 [00:00<00:00, 2189922.37it/s]\n",
            "100%|██████████| 1617/1617 [00:00<00:00, 1390647.85it/s]\n",
            "100%|██████████| 1617/1617 [00:00<00:00, 1329059.29it/s]\n",
            "100%|██████████| 1617/1617 [00:00<00:00, 2028166.74it/s]\n",
            "100%|██████████| 1617/1617 [00:00<00:00, 2199153.56it/s]\n",
            "100%|██████████| 1617/1617 [00:00<00:00, 587660.48it/s]\n",
            "100%|██████████| 1617/1617 [00:00<00:00, 2135450.12it/s]\n",
            "100%|██████████| 1617/1617 [00:00<00:00, 1309808.72it/s]\n",
            "100%|██████████| 1617/1617 [00:00<00:00, 1235146.52it/s]\n"
          ]
        }
      ],
      "source": [
        "doc2vec_tr = Doc2VecTransformer(vector_size=200)\n",
        "doc2vec_tr.fit(dat)\n",
        "doc2vec_vectors = doc2vec_tr.transform(dat)"
      ]
    },
    {
      "cell_type": "code",
      "execution_count": null,
      "metadata": {
        "colab": {
          "base_uri": "https://localhost:8080/"
        },
        "id": "LoBjyBINtx7j",
        "outputId": "ca3313f5-abfd-48e6-f63d-e173d67ff8f6"
      },
      "outputs": [
        {
          "name": "stderr",
          "output_type": "stream",
          "text": [
            "/usr/local/lib/python3.7/dist-packages/sklearn/utils/validation.py:598: FutureWarning: np.matrix usage is deprecated in 1.0 and will raise a TypeError in 1.2. Please convert to a numpy array with np.asarray. For more information see: https://numpy.org/doc/stable/reference/generated/numpy.matrix.html\n",
            "  FutureWarning,\n",
            "/usr/local/lib/python3.7/dist-packages/sklearn/utils/validation.py:598: FutureWarning: np.matrix usage is deprecated in 1.0 and will raise a TypeError in 1.2. Please convert to a numpy array with np.asarray. For more information see: https://numpy.org/doc/stable/reference/generated/numpy.matrix.html\n",
            "  FutureWarning,\n",
            "/usr/local/lib/python3.7/dist-packages/sklearn/utils/validation.py:598: FutureWarning: np.matrix usage is deprecated in 1.0 and will raise a TypeError in 1.2. Please convert to a numpy array with np.asarray. For more information see: https://numpy.org/doc/stable/reference/generated/numpy.matrix.html\n",
            "  FutureWarning,\n"
          ]
        }
      ],
      "source": [
        "from sklearn.neural_network import MLPRegressor\n",
        "\n",
        "auto_encoder = MLPRegressor(hidden_layer_sizes=(\n",
        "                                                 600,\n",
        "                                                 150, \n",
        "                                                 600,\n",
        "                                               ))\n",
        "auto_encoder.fit(doc2vec_vectors, doc2vec_vectors)\n",
        "predicted_vectors = auto_encoder.predict(doc2vec_vectors)"
      ]
    },
    {
      "cell_type": "code",
      "execution_count": null,
      "metadata": {
        "colab": {
          "base_uri": "https://localhost:8080/",
          "height": 90
        },
        "id": "jsPXBtDSuAE5",
        "outputId": "9526f6c1-b22f-4ce0-c44e-b37d0e655223"
      },
      "outputs": [
        {
          "name": "stderr",
          "output_type": "stream",
          "text": [
            "/usr/local/lib/python3.7/dist-packages/sklearn/utils/validation.py:598: FutureWarning: np.matrix usage is deprecated in 1.0 and will raise a TypeError in 1.2. Please convert to a numpy array with np.asarray. For more information see: https://numpy.org/doc/stable/reference/generated/numpy.matrix.html\n",
            "  FutureWarning,\n"
          ]
        },
        {
          "data": {
            "application/vnd.google.colaboratory.intrinsic+json": {
              "type": "string"
            },
            "text/plain": [
              "'94.373%'"
            ]
          },
          "execution_count": 19,
          "metadata": {},
          "output_type": "execute_result"
        }
      ],
      "source": [
        "str(round(auto_encoder.score(predicted_vectors, doc2vec_vectors)*100,3))+'%'"
      ]
    },
    {
      "cell_type": "code",
      "execution_count": null,
      "metadata": {
        "colab": {
          "base_uri": "https://localhost:8080/",
          "height": 283
        },
        "id": "i7PwJQvPuXRk",
        "outputId": "3abe5e80-e5a1-4427-cd41-25c7c6c5c2d0"
      },
      "outputs": [
        {
          "data": {
            "text/plain": [
              "<matplotlib.axes._subplots.AxesSubplot at 0x7f9e39f1be50>"
            ]
          },
          "execution_count": 20,
          "metadata": {},
          "output_type": "execute_result"
        },
        {
          "data": {
            "image/png": "[encoded data removed]",
            "text/plain": [
              "<Figure size 432x288 with 1 Axes>"
            ]
          },
          "metadata": {},
          "output_type": "display_data"
        }
      ],
      "source": [
        "pd.DataFrame(auto_encoder.loss_curve_).plot()"
      ]
    },
    {
      "cell_type": "code",
      "execution_count": null,
      "metadata": {
        "colab": {
          "base_uri": "https://localhost:8080/",
          "height": 269
        },
        "id": "Q-HFwZBzav3b",
        "outputId": "583833f8-45be-493d-caaf-370d1429ae28"
      },
      "outputs": [
        {
          "data": {
            "text/html": [
              "\n",
              "  <div id=\"df-43adf9d6-9565-426c-93ab-ff5df3509493\">\n",
              "    <div class=\"colab-df-container\">\n",
              "      <div>\n",
              "<style scoped>\n",
              "    .dataframe tbody tr th:only-of-type {\n",
              "        vertical-align: middle;\n",
              "    }\n",
              "\n",
              "    .dataframe tbody tr th {\n",
              "        vertical-align: top;\n",
              "    }\n",
              "\n",
              "    .dataframe thead th {\n",
              "        text-align: right;\n",
              "    }\n",
              "</style>\n",
              "<table border=\"1\" class=\"dataframe\">\n",
              "  <thead>\n",
              "    <tr style=\"text-align: right;\">\n",
              "      <th></th>\n",
              "      <th>sents</th>\n",
              "    </tr>\n",
              "  </thead>\n",
              "  <tbody>\n",
              "    <tr>\n",
              "      <th>0</th>\n",
              "      <td>todai video sponsor skillshar video</td>\n",
              "    </tr>\n",
              "    <tr>\n",
              "      <th>1</th>\n",
              "      <td>friend told problem gave advic storytim</td>\n",
              "    </tr>\n",
              "    <tr>\n",
              "      <th>2</th>\n",
              "      <td>video sponsor best fiend mobil multiplay game ...</td>\n",
              "    </tr>\n",
              "    <tr>\n",
              "      <th>3</th>\n",
              "      <td>mukbang youtub</td>\n",
              "    </tr>\n",
              "    <tr>\n",
              "      <th>4</th>\n",
              "      <td>thank raycon sponsor todai video</td>\n",
              "    </tr>\n",
              "    <tr>\n",
              "      <th>5</th>\n",
              "      <td>discuss exam paper india joint entranc exam</td>\n",
              "    </tr>\n",
              "    <tr>\n",
              "      <th>6</th>\n",
              "      <td>us coupon code eatmiss flat purchas</td>\n",
              "    </tr>\n",
              "  </tbody>\n",
              "</table>\n",
              "</div>\n",
              "      <button class=\"colab-df-convert\" onclick=\"convertToInteractive('df-43adf9d6-9565-426c-93ab-ff5df3509493')\"\n",
              "              title=\"Convert this dataframe to an interactive table.\"\n",
              "              style=\"display:none;\">\n",
              "        \n",
              "  <svg xmlns=\"http://www.w3.org/2000/svg\" height=\"24px\"viewBox=\"0 0 24 24\"\n",
              "       width=\"24px\">\n",
              "    <path d=\"M0 0h24v24H0V0z\" fill=\"none\"/>\n",
              "    <path d=\"M18.56 5.44l.94 2.06.94-2.06 2.06-.94-2.06-.94-.94-2.06-.94 2.06-2.06.94zm-11 1L8.5 8.5l.94-2.06 2.06-.94-2.06-.94L8.5 2.5l-.94 2.06-2.06.94zm10 10l.94 2.06.94-2.06 2.06-.94-2.06-.94-.94-2.06-.94 2.06-2.06.94z\"/><path d=\"M17.41 7.96l-1.37-1.37c-.4-.4-.92-.59-1.43-.59-.52 0-1.04.2-1.43.59L10.3 9.45l-7.72 7.72c-.78.78-.78 2.05 0 2.83L4 21.41c.39.39.9.59 1.41.59.51 0 1.02-.2 1.41-.59l7.78-7.78 2.81-2.81c.8-.78.8-2.07 0-2.86zM5.41 20L4 18.59l7.72-7.72 1.47 1.35L5.41 20z\"/>\n",
              "  </svg>\n",
              "      </button>\n",
              "      \n",
              "  <style>\n",
              "    .colab-df-container {\n",
              "      display:flex;\n",
              "      flex-wrap:wrap;\n",
              "      gap: 12px;\n",
              "    }\n",
              "\n",
              "    .colab-df-convert {\n",
              "      background-color: #E8F0FE;\n",
              "      border: none;\n",
              "      border-radius: 50%;\n",
              "      cursor: pointer;\n",
              "      display: none;\n",
              "      fill: #1967D2;\n",
              "      height: 32px;\n",
              "      padding: 0 0 0 0;\n",
              "      width: 32px;\n",
              "    }\n",
              "\n",
              "    .colab-df-convert:hover {\n",
              "      background-color: #E2EBFA;\n",
              "      box-shadow: 0px 1px 2px rgba(60, 64, 67, 0.3), 0px 1px 3px 1px rgba(60, 64, 67, 0.15);\n",
              "      fill: #174EA6;\n",
              "    }\n",
              "\n",
              "    [theme=dark] .colab-df-convert {\n",
              "      background-color: #3B4455;\n",
              "      fill: #D2E3FC;\n",
              "    }\n",
              "\n",
              "    [theme=dark] .colab-df-convert:hover {\n",
              "      background-color: #434B5C;\n",
              "      box-shadow: 0px 1px 3px 1px rgba(0, 0, 0, 0.15);\n",
              "      filter: drop-shadow(0px 1px 2px rgba(0, 0, 0, 0.3));\n",
              "      fill: #FFFFFF;\n",
              "    }\n",
              "  </style>\n",
              "\n",
              "      <script>\n",
              "        const buttonEl =\n",
              "          document.querySelector('#df-43adf9d6-9565-426c-93ab-ff5df3509493 button.colab-df-convert');\n",
              "        buttonEl.style.display =\n",
              "          google.colab.kernel.accessAllowed ? 'block' : 'none';\n",
              "\n",
              "        async function convertToInteractive(key) {\n",
              "          const element = document.querySelector('#df-43adf9d6-9565-426c-93ab-ff5df3509493');\n",
              "          const dataTable =\n",
              "            await google.colab.kernel.invokeFunction('convertToInteractive',\n",
              "                                                     [key], {});\n",
              "          if (!dataTable) return;\n",
              "\n",
              "          const docLinkHtml = 'Like what you see? Visit the ' +\n",
              "            '<a target=\"_blank\" href=https://colab.research.google.com/notebooks/data_table.ipynb>data table notebook</a>'\n",
              "            + ' to learn more about interactive tables.';\n",
              "          element.innerHTML = '';\n",
              "          dataTable['output_type'] = 'display_data';\n",
              "          await google.colab.output.renderOutput(dataTable, element);\n",
              "          const docLink = document.createElement('div');\n",
              "          docLink.innerHTML = docLinkHtml;\n",
              "          element.appendChild(docLink);\n",
              "        }\n",
              "      </script>\n",
              "    </div>\n",
              "  </div>\n",
              "  "
            ],
            "text/plain": [
              "                                               sents\n",
              "0                todai video sponsor skillshar video\n",
              "1            friend told problem gave advic storytim\n",
              "2  video sponsor best fiend mobil multiplay game ...\n",
              "3                                     mukbang youtub\n",
              "4                   thank raycon sponsor todai video\n",
              "5        discuss exam paper india joint entranc exam\n",
              "6                us coupon code eatmiss flat purchas"
            ]
          },
          "execution_count": 80,
          "metadata": {},
          "output_type": "execute_result"
        }
      ],
      "source": [
        "data = ['todays video is sponsored by skillshare. Back to the video.','So my friend told me about her problems and I gave her some advice storytime','this video is sponsored by best fiends. it is a mobile multiplayer game that keeps you engaged.','i am a mukbang youtuber',\"thank you raycon for sponsoring today's video\",'we will be discussing this exam paper from Indias joint entrance exam','Use my coupon code EATMISS to get flat 30% off your first three purchases']\n",
        "data = [clean_text(i) for i in data]\n",
        "#data = [data[1]]\n",
        "dd = pd.DataFrame()\n",
        "dd['sents'] = data\n",
        "data = dd\n",
        "data"
      ]
    },
    {
      "cell_type": "code",
      "execution_count": null,
      "metadata": {
        "colab": {
          "base_uri": "https://localhost:8080/"
        },
        "id": "8fpSGeCqlrB0",
        "outputId": "f85b4839-12ae-46d1-fa97-ea2bc193b440"
      },
      "outputs": [
        {
          "name": "stderr",
          "output_type": "stream",
          "text": [
            "/usr/local/lib/python3.7/dist-packages/sklearn/utils/validation.py:598: FutureWarning: np.matrix usage is deprecated in 1.0 and will raise a TypeError in 1.2. Please convert to a numpy array with np.asarray. For more information see: https://numpy.org/doc/stable/reference/generated/numpy.matrix.html\n",
            "  FutureWarning,\n"
          ]
        }
      ],
      "source": [
        "dv = doc2vec_tr.transform(data)\n",
        "pv = auto_encoder.predict(dv)"
      ]
    },
    {
      "cell_type": "code",
      "execution_count": null,
      "metadata": {
        "id": "ooq8e5NxvvRH"
      },
      "outputs": [],
      "source": [
        "from scipy.spatial.distance import cosine\n",
        "\n",
        "def key_consine_similarity(tupple):\n",
        "    return tupple[1]\n",
        "\n",
        "def get_computed_similarities(vectors, predicted_vectors, reverse=False):\n",
        "    data_size = len(data)\n",
        "    cosine_similarities = []\n",
        "    for i in range(data_size):\n",
        "        cosine_sim_val = (cosine(vectors[i], predicted_vectors[i]))\n",
        "        cosine_similarities.append((i, cosine_sim_val))\n",
        "\n",
        "    return sorted(cosine_similarities, key=key_consine_similarity, reverse=reverse)\n",
        "\n",
        "def display_top_n(sorted_cosine_similarities, n=len(data)):\n",
        "    for i in range(n):\n",
        "        index, cosine_sim_val = sorted_cosine_similarities[i]\n",
        "        cosine_sim_val = round(cosine_sim_val,4)\n",
        "        print('Text Title: ', data.iloc[index][0])\n",
        "        tag = ''\n",
        "        if cosine_sim_val > 0.70:\n",
        "          tag='Sponsored'\n",
        "        else:\n",
        "          tag='Content'\n",
        "        print('Tag :', cosine_sim_val, tag)\n",
        "        print('---------------------------------')"
      ]
    },
    {
      "cell_type": "code",
      "execution_count": null,
      "metadata": {
        "colab": {
          "base_uri": "https://localhost:8080/"
        },
        "id": "7GNX8YQ--7HC",
        "outputId": "a79a3009-d0e6-412d-f5e1-2c04a47f2582"
      },
      "outputs": [
        {
          "name": "stdout",
          "output_type": "stream",
          "text": [
            "Text Title:  discuss exam paper india joint entranc exam\n",
            "Tag : 0.0001 Content\n",
            "---------------------------------\n",
            "Text Title:  todai video sponsor skillshar video\n",
            "Tag : 0.0002 Content\n",
            "---------------------------------\n",
            "Text Title:  friend told problem gave advic storytim\n",
            "Tag : 0.0003 Content\n",
            "---------------------------------\n",
            "Text Title:  mukbang youtub\n",
            "Tag : 0.0012 Content\n",
            "---------------------------------\n",
            "Text Title:  video sponsor best fiend mobil multiplay game keep engag\n",
            "Tag : 0.8585 Sponsored\n",
            "---------------------------------\n",
            "Text Title:  us coupon code eatmiss flat purchas\n",
            "Tag : 0.9924 Sponsored\n",
            "---------------------------------\n",
            "Text Title:  thank raycon sponsor todai video\n",
            "Tag : 1.0327 Sponsored\n",
            "---------------------------------\n"
          ]
        }
      ],
      "source": [
        "sorted_cosine_similarities = get_computed_similarities(vectors=dv, predicted_vectors=pv)\n",
        "display_top_n(sorted_cosine_similarities=sorted_cosine_similarities)"
      ]
    },
    {
      "cell_type": "code",
      "execution_count": null,
      "metadata": {
        "id": "dNKhunwJ_Uor"
      },
      "outputs": [],
      "source": []
    }
  ],
  "metadata": {
    "colab": {
      "name": "test.ipynb",
      "provenance": []
    },
    "kernelspec": {
      "display_name": "Python 3",
      "name": "python3"
    },
    "language_info": {
      "codemirror_mode": {
        "name": "ipython",
        "version": 3
      },
      "file_extension": ".py",
      "mimetype": "text/x-python",
      "name": "python",
      "nbconvert_exporter": "python",
      "pygments_lexer": "ipython3",
      "version": "3.8.5"
    }
  },
  "nbformat": 4,
  "nbformat_minor": 0
}
